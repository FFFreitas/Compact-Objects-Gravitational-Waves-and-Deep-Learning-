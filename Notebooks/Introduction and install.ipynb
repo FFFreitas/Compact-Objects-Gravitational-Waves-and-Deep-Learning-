{
 "cells": [
  {
   "cell_type": "markdown",
   "metadata": {
    "slideshow": {
     "slide_type": "slide"
    }
   },
   "source": [
    "# Detecting binary black holemerges with deep learning: a 100% glitchless speedrun walkthrough."
   ]
  },
  {
   "cell_type": "markdown",
   "metadata": {
    "slideshow": {
     "slide_type": "fragment"
    }
   },
   "source": [
    "### Felipe Ferreira de Freitas:\n",
    "- Phd. Universidade Federal da Paraiba, University of Sussex.\n",
    "- Msc. Universidade Federal da Paraiba.\n",
    "- Bsc. Universidade Católica de Pernambuco.\n",
    "\n",
    "### Research topics:\n",
    "- Collider phenomenology.\n",
    "- Higgs physics.\n",
    "- Computer vision.\n",
    "- Deep learning and data analysis.\n",
    "- Model building.\n",
    "- Applications of deep learning on medical data analysis."
   ]
  },
  {
   "cell_type": "markdown",
   "metadata": {
    "slideshow": {
     "slide_type": "slide"
    }
   },
   "source": [
    "# Why Anaconda and jupyter notebooks?\n",
    "\n",
    "- Anaconda just makes life more easy by creating virtual environments and managing all the package installation hassles.\n",
    "- jupyter also makes life easy, and:\n",
    "\n",
    "<img src=\"./figs/tenor.gif\" style=\"width: 1050px;\"><figcaption> <font size=\"3\">  </figcaption>"
   ]
  },
  {
   "cell_type": "markdown",
   "metadata": {
    "slideshow": {
     "slide_type": "slide"
    }
   },
   "source": [
    "# Why PyTorch and fastai?\n",
    "\n",
    "- PyTorch is an open source machine learning framework that accelerates the path from research prototyping to production deployment.\n",
    "- FastAI is, by far, one of the most simple and yet sophisticated API to develop deep learning models and even put into production.\n",
    "\n",
    "<img src=\"./figs/fastai kiss.jpg\" style=\"width: 850px;\"><figcaption> <font size=\"3\">  </figcaption>"
   ]
  },
  {
   "cell_type": "markdown",
   "metadata": {
    "slideshow": {
     "slide_type": "slide"
    }
   },
   "source": [
    "# Why this minicurse?\n",
    "\n",
    "- One of my main interesting is to have more people using these tools for academic research.\n",
    "- They are easy to use, we can implement state-of-art models and apply our domain knowledge in many different problems.\n",
    "\n",
    "<table><tr>\n",
    "    <td><img src=\"./figs/twpaper.png\" style=\"width: 850px;\"><figcaption> <font size=\"3\"> </td> \n",
    "    <td><img src=\"./figs/xraypaper.png\" style=\"width: 850px;\"><figcaption> <font size=\"3\"> </td>\n",
    "    </tr></table>"
   ]
  },
  {
   "cell_type": "markdown",
   "metadata": {
    "slideshow": {
     "slide_type": "slide"
    }
   },
   "source": [
    "# Installing Anaconda:"
   ]
  },
  {
   "cell_type": "markdown",
   "metadata": {
    "slideshow": {
     "slide_type": "fragment"
    }
   },
   "source": [
    "We can download the anaconda installation script from https://docs.anaconda.com/anaconda/install/ and choose the correspondent OS you wish to use. In our case we are going to install the Linux version: https://docs.anaconda.com/anaconda/install/linux/"
   ]
  },
  {
   "cell_type": "markdown",
   "metadata": {
    "slideshow": {
     "slide_type": "slide"
    }
   },
   "source": [
    "after download and before install anything is recommended to run one of the following commands (depending on your linux distribution):\n",
    "\n",
    "<img src=\"./figs/Debian_pre.png\" style=\"width: 1050px;\"><figcaption> <font size=\"3\">  </figcaption>"
   ]
  },
  {
   "cell_type": "markdown",
   "metadata": {
    "slideshow": {
     "slide_type": "slide"
    }
   },
   "source": [
    "just copy and run on a terminal, to open a terminal type CTRL + SHIFT + T"
   ]
  },
  {
   "cell_type": "markdown",
   "metadata": {
    "slideshow": {
     "slide_type": "fragment"
    }
   },
   "source": [
    "Enter the following to install Anaconda for Python 3.7:\n",
    "\n",
    "$ bash Anaconda3-2020.02-Linux-x86_64.sh"
   ]
  },
  {
   "cell_type": "markdown",
   "metadata": {
    "slideshow": {
     "slide_type": "slide"
    }
   },
   "source": [
    "After the installation you should have the following prompt in a new terminal:\n",
    "\n",
    "<img src=\"./figs/terminal.png\" style=\"width: 1050px;\"><figcaption> <font size=\"3\">  </figcaption>"
   ]
  },
  {
   "cell_type": "markdown",
   "metadata": {
    "slideshow": {
     "slide_type": "slide"
    }
   },
   "source": [
    "# Create an environment:"
   ]
  },
  {
   "cell_type": "markdown",
   "metadata": {
    "slideshow": {
     "slide_type": "fragment"
    }
   },
   "source": [
    "Now we can create virtual environment which will help us to installing the necessary packages. We can use anaconda to do so https://docs.conda.io/projects/conda/en/latest/user-guide/tasks/manage-environments.html#creating-an-environment-with-commands\n",
    "\n",
    "Let's first create the environment for the FastAI and pytorch:\n",
    "\n",
    "(base) pc@pc:~$ conda create -n fastai_v2 conda=4.6.14 ipykernel jupyter\n",
    "\n",
    "going throught each command, we heve:\n",
    "\n",
    "- (base) -> indicate that we are in the anaconda base environment\n",
    "- pc@pc:~$ -> indicate the shell prompt, in this case the ~ shows that we are at the home directory\n",
    "- conda create -> is the main command to create a new \n",
    "- -n fastai_v2 -> -n indicate the name of the environment, in this case fastai_v2\n",
    "- conda=4.6.14 -> this set the main conda channel where we going to download the packages.\n",
    "- ipykernel jupyter -> are the packages for the jupyter notebooks and interactive python kernel, we are going to explore more in a moment."
   ]
  },
  {
   "cell_type": "markdown",
   "metadata": {
    "slideshow": {
     "slide_type": "slide"
    }
   },
   "source": [
    "after pass this command the shell prompt will show a list of packages that will be dowloaded and install, just type y and proceed with the installation.\n",
    "\n",
    "Now we have a new envioronment called fastai_v2, you can check by typing conda env list\n",
    "\n",
    "<img src=\"./figs/envs.png\" style=\"width: 1050px;\"><figcaption> <font size=\"3\">  </figcaption>"
   ]
  },
  {
   "cell_type": "markdown",
   "metadata": {
    "slideshow": {
     "slide_type": "slide"
    }
   },
   "source": [
    "now we can activate the fastai_v2 environment by:\n",
    "\n",
    "(base) pc@pc:~$ conda activate fastai_v2\n",
    "\n",
    "and install the new fastai package, version 2.0.0:\n",
    "\n",
    "(fastai_v2) pc@pc:~$ conda install -c fastai -c pytorch -c anaconda fastai gh anaconda"
   ]
  },
  {
   "cell_type": "markdown",
   "metadata": {
    "slideshow": {
     "slide_type": "slide"
    }
   },
   "source": [
    "# Install the ipykernel:\n",
    "\n",
    "now we have created the fastai_v2 environment and install FastAI into it, we have to link the environment kernel into our base environment:"
   ]
  },
  {
   "cell_type": "markdown",
   "metadata": {
    "slideshow": {
     "slide_type": "fragment"
    }
   },
   "source": [
    "(fastai_v2):~$ python -m ipykernel install --user --name fastai_v2 --display-name \"FastAI-V2\"\n",
    "\n",
    "where:\n",
    "- python -m ipykernel -> indicate that I'm executing python with the ipykernel module\n",
    "- install --user --name -> The --name value is used by Jupyter internally. These commands will overwrite any existing kernel with the same name.\n",
    "- -display-name -> is the name, in this case FastAI-V2, you see in the notebook menus."
   ]
  },
  {
   "cell_type": "markdown",
   "metadata": {
    "slideshow": {
     "slide_type": "slide"
    }
   },
   "source": [
    "if everything went well, you can run on a new terminal:\n",
    "\n",
    "(base):~$ jupyter-lab &\n",
    "\n",
    "and a new tab will open on your web brownser:\n",
    "\n",
    "<img src=\"./figs/jupyter_lab.png\" style=\"width: 1050px;\"><figcaption> <font size=\"3\">  </figcaption>"
   ]
  },
  {
   "cell_type": "markdown",
   "metadata": {
    "slideshow": {
     "slide_type": "slide"
    }
   },
   "source": [
    "# Installing pycbc and GWpy:\n",
    "\n",
    "To install both packages I would recommend to create a new environment, as we did for FastAI:\n",
    "\n",
    "(base):~$ conda create -n GW_data conda=4.6.14 jupyter ipykernel \n",
    "\n",
    "and install first PyCBC:\n",
    "\n",
    "(GW_data):~$ pip install lalsuite pycbc\n",
    "\n",
    "followed by GWpy:\n",
    "\n",
    "(GW_data):~$ conda install -c conda-forge gwpy\n",
    "\n",
    "and finally link the ipykernel to the base:\n",
    "\n",
    "(GW_data):~$ python -m ipykernel install --user --name GW_data --display-name \"GW Data\""
   ]
  },
  {
   "cell_type": "markdown",
   "metadata": {},
   "source": [
    "# Google colab"
   ]
  },
  {
   "cell_type": "markdown",
   "metadata": {},
   "source": [
    "### A good alternative is to use google colab:"
   ]
  },
  {
   "cell_type": "markdown",
   "metadata": {},
   "source": [
    "pros:\n",
    "- free!!!\n",
    "- you also gain a free GPU.\n",
    "- you run everything in a google instance and no need to install anything in your machine.\n",
    "\n",
    "cons:\n",
    "- limited space in disk and memory, you have to use your google dirve account.\n",
    "- limited instances you can run.\n",
    "- sometimes is quite slow to load your data from the google drive to the gpu."
   ]
  },
  {
   "cell_type": "code",
   "execution_count": null,
   "metadata": {},
   "outputs": [],
   "source": []
  }
 ],
 "metadata": {
  "kernelspec": {
   "display_name": "FastAI-v2",
   "language": "python",
   "name": "fastai_v2"
  },
  "language_info": {
   "codemirror_mode": {
    "name": "ipython",
    "version": 3
   },
   "file_extension": ".py",
   "mimetype": "text/x-python",
   "name": "python",
   "nbconvert_exporter": "python",
   "pygments_lexer": "ipython3",
   "version": "3.7.7"
  }
 },
 "nbformat": 4,
 "nbformat_minor": 4
}
